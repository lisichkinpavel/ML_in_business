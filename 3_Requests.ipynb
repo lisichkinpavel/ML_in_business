{
  "nbformat": 4,
  "nbformat_minor": 0,
  "metadata": {
    "colab": {
      "name": "3.Requests.ipynb",
      "provenance": [],
      "collapsed_sections": [],
      "mount_file_id": "1M6BgQuJ-bU-RfMu4wwdGNbdplOHtHV0d",
      "authorship_tag": "ABX9TyP715Sk2SLaiOR2tVyXd16H",
      "include_colab_link": true
    },
    "kernelspec": {
      "name": "python3",
      "display_name": "Python 3"
    },
    "language_info": {
      "name": "python"
    }
  },
  "cells": [
    {
      "cell_type": "markdown",
      "metadata": {
        "id": "view-in-github",
        "colab_type": "text"
      },
      "source": [
        "<a href=\"https://colab.research.google.com/github/lisya/ML_in_business/blob/hw_final/3_Requests.ipynb\" target=\"_parent\"><img src=\"https://colab.research.google.com/assets/colab-badge.svg\" alt=\"Open In Colab\"/></a>"
      ]
    },
    {
      "cell_type": "code",
      "metadata": {
        "id": "DQmDBytBO7pG"
      },
      "source": [
        "import pandas as pd\n",
        "import numpy as np\n",
        "import requests\n",
        "import urllib.request\n",
        "import json \n",
        "from pprint import pprint"
      ],
      "execution_count": 1,
      "outputs": []
    },
    {
      "cell_type": "code",
      "metadata": {
        "id": "KxkpiP3lU76r"
      },
      "source": [
        "test_data = {'CreditScore': 596,\n",
        "            'Geography': 'Germany',\n",
        "            'Gender': 'Male',\n",
        "            'Age': 32,\n",
        "            'Tenure': 3,\n",
        "            'Balance': 96709.07,\n",
        "            'NumOfProducts': 2,\n",
        "            'HasCrCard': 0,\n",
        "            'IsActiveMember': 0,\n",
        "            'EstimatedSalary': 41788.37}"
      ],
      "execution_count": 2,
      "outputs": []
    },
    {
      "cell_type": "code",
      "metadata": {
        "colab": {
          "base_uri": "https://localhost:8080/"
        },
        "id": "TAqarLSAcHJL",
        "outputId": "cfcaf7c2-89cd-44a5-f23f-9312b2e476ef"
      },
      "source": [
        "# формируем запрос\n",
        "def send_json(x):\n",
        "# На вход должен приходить словарь. Но если мы делаем Мы передаем на вход\n",
        "# Series из нашего датафрейма то необходима дополнительня обработка.\n",
        "# Идет прорерка является ли объект серией. Если да то переводиим в словарь.\n",
        "# Теперь нужно изменить числовые типы numpy данных, т.к. эти данные не смогут\n",
        "# сконвертироваться в json и будет ошибка\n",
        "\n",
        "\n",
        "    if isinstance(x, pd.Series):\n",
        "      x = x.to_dict()\n",
        "\n",
        "      for key, value in x.items():\n",
        "        if isinstance(value, (np.int_, np.intc, np.intp, np.int8,\n",
        "                          np.int16, np.int32, np.int64, np.uint8,\n",
        "                          np.uint16, np.uint32, np.uint64)):\n",
        "          x[key] = int(value)\n",
        "        elif isinstance(value, (np.float_, np.float16, np.float32, np.float64)):\n",
        "          x[key] = float(value)\n",
        "\n",
        "\n",
        "    myurl = 'http://bd6441f246ae.ngrok.io/'+'predict'\n",
        "    headers = {'content-type': 'application/json; charset=utf-8'}\n",
        "    response = requests.post(myurl, json=x, headers=headers)\n",
        "    return float(response.json()['predictions'])\n",
        "\n",
        "# обращение к серверу с запросом из одного набора (его построили руками выше - test_data)\n",
        "if __name__ == '__main__':\n",
        "    response = send_json(test_data)\n",
        "    print('Данные:\\n')\n",
        "    pprint(test_data)\n",
        "    print('\\n Предсказание:',response)"
      ],
      "execution_count": 3,
      "outputs": [
        {
          "output_type": "stream",
          "text": [
            "Данные:\n",
            "\n",
            "{'Age': 32,\n",
            " 'Balance': 96709.07,\n",
            " 'CreditScore': 596,\n",
            " 'EstimatedSalary': 41788.37,\n",
            " 'Gender': 'Male',\n",
            " 'Geography': 'Germany',\n",
            " 'HasCrCard': 0,\n",
            " 'IsActiveMember': 0,\n",
            " 'NumOfProducts': 2,\n",
            " 'Tenure': 3}\n",
            "\n",
            " Предсказание: 0.03430735\n"
          ],
          "name": "stdout"
        }
      ]
    },
    {
      "cell_type": "markdown",
      "metadata": {
        "id": "ZkFD8jES4v3p"
      },
      "source": [
        "Сделаем обработку массы запросов:\n",
        "\n",
        "Загрузим данные X_test"
      ]
    },
    {
      "cell_type": "code",
      "metadata": {
        "id": "C0eRiv3L4wbh"
      },
      "source": [
        "path = '/content/drive/MyDrive/Notebooks/ML_in_business/final_project/'"
      ],
      "execution_count": 4,
      "outputs": []
    },
    {
      "cell_type": "code",
      "metadata": {
        "id": "AZp2GpIE40Jw"
      },
      "source": [
        "X_test = pd.read_csv(path+\"X_test.csv\")\n",
        "y_test = pd.read_csv(path+\"y_test.csv\")"
      ],
      "execution_count": 5,
      "outputs": []
    },
    {
      "cell_type": "code",
      "metadata": {
        "id": "Uuoqlygj42Ro"
      },
      "source": [
        "from sklearn.metrics import roc_auc_score,roc_curve\n",
        "from urllib import request, parse"
      ],
      "execution_count": 6,
      "outputs": []
    },
    {
      "cell_type": "code",
      "metadata": {
        "colab": {
          "base_uri": "https://localhost:8080/"
        },
        "id": "j2bQztH9iPWW",
        "outputId": "db578628-24d2-448a-a43a-dc57d845c4cd"
      },
      "source": [
        "response = send_json(X_test.iloc[0,:])\n",
        "response"
      ],
      "execution_count": 7,
      "outputs": [
        {
          "output_type": "execute_result",
          "data": {
            "text/plain": [
              "0.03430735"
            ]
          },
          "metadata": {
            "tags": []
          },
          "execution_count": 7
        }
      ]
    },
    {
      "cell_type": "code",
      "metadata": {
        "colab": {
          "base_uri": "https://localhost:8080/",
          "height": 204
        },
        "id": "W7h9rRpm5JAb",
        "outputId": "29bb5600-7ad7-480e-df72-c50da06acc9f"
      },
      "source": [
        "X_test.head()"
      ],
      "execution_count": 9,
      "outputs": [
        {
          "output_type": "execute_result",
          "data": {
            "text/html": [
              "<div>\n",
              "<style scoped>\n",
              "    .dataframe tbody tr th:only-of-type {\n",
              "        vertical-align: middle;\n",
              "    }\n",
              "\n",
              "    .dataframe tbody tr th {\n",
              "        vertical-align: top;\n",
              "    }\n",
              "\n",
              "    .dataframe thead th {\n",
              "        text-align: right;\n",
              "    }\n",
              "</style>\n",
              "<table border=\"1\" class=\"dataframe\">\n",
              "  <thead>\n",
              "    <tr style=\"text-align: right;\">\n",
              "      <th></th>\n",
              "      <th>CreditScore</th>\n",
              "      <th>Geography</th>\n",
              "      <th>Gender</th>\n",
              "      <th>Age</th>\n",
              "      <th>Tenure</th>\n",
              "      <th>Balance</th>\n",
              "      <th>NumOfProducts</th>\n",
              "      <th>HasCrCard</th>\n",
              "      <th>IsActiveMember</th>\n",
              "      <th>EstimatedSalary</th>\n",
              "    </tr>\n",
              "  </thead>\n",
              "  <tbody>\n",
              "    <tr>\n",
              "      <th>0</th>\n",
              "      <td>596</td>\n",
              "      <td>Germany</td>\n",
              "      <td>Male</td>\n",
              "      <td>32</td>\n",
              "      <td>3</td>\n",
              "      <td>96709.07</td>\n",
              "      <td>2</td>\n",
              "      <td>0</td>\n",
              "      <td>0</td>\n",
              "      <td>41788.37</td>\n",
              "    </tr>\n",
              "    <tr>\n",
              "      <th>1</th>\n",
              "      <td>623</td>\n",
              "      <td>France</td>\n",
              "      <td>Male</td>\n",
              "      <td>43</td>\n",
              "      <td>1</td>\n",
              "      <td>0.00</td>\n",
              "      <td>2</td>\n",
              "      <td>1</td>\n",
              "      <td>1</td>\n",
              "      <td>146379.30</td>\n",
              "    </tr>\n",
              "    <tr>\n",
              "      <th>2</th>\n",
              "      <td>601</td>\n",
              "      <td>Spain</td>\n",
              "      <td>Female</td>\n",
              "      <td>44</td>\n",
              "      <td>4</td>\n",
              "      <td>0.00</td>\n",
              "      <td>2</td>\n",
              "      <td>1</td>\n",
              "      <td>0</td>\n",
              "      <td>58561.31</td>\n",
              "    </tr>\n",
              "    <tr>\n",
              "      <th>3</th>\n",
              "      <td>506</td>\n",
              "      <td>Germany</td>\n",
              "      <td>Male</td>\n",
              "      <td>59</td>\n",
              "      <td>8</td>\n",
              "      <td>119152.10</td>\n",
              "      <td>2</td>\n",
              "      <td>1</td>\n",
              "      <td>1</td>\n",
              "      <td>170679.74</td>\n",
              "    </tr>\n",
              "    <tr>\n",
              "      <th>4</th>\n",
              "      <td>560</td>\n",
              "      <td>Spain</td>\n",
              "      <td>Female</td>\n",
              "      <td>27</td>\n",
              "      <td>7</td>\n",
              "      <td>124995.98</td>\n",
              "      <td>1</td>\n",
              "      <td>1</td>\n",
              "      <td>1</td>\n",
              "      <td>114669.79</td>\n",
              "    </tr>\n",
              "  </tbody>\n",
              "</table>\n",
              "</div>"
            ],
            "text/plain": [
              "   CreditScore Geography  Gender  ...  HasCrCard  IsActiveMember  EstimatedSalary\n",
              "0          596   Germany    Male  ...          0               0         41788.37\n",
              "1          623    France    Male  ...          1               1        146379.30\n",
              "2          601     Spain  Female  ...          1               0         58561.31\n",
              "3          506   Germany    Male  ...          1               1        170679.74\n",
              "4          560     Spain  Female  ...          1               1        114669.79\n",
              "\n",
              "[5 rows x 10 columns]"
            ]
          },
          "metadata": {
            "tags": []
          },
          "execution_count": 9
        }
      ]
    },
    {
      "cell_type": "markdown",
      "metadata": {
        "id": "ySThMv5ikjtK"
      },
      "source": [
        "Сделаем N запросов и оценим время"
      ]
    },
    {
      "cell_type": "code",
      "metadata": {
        "id": "WoxHp8JwkxZv"
      },
      "source": [
        "N = 50"
      ],
      "execution_count": 10,
      "outputs": []
    },
    {
      "cell_type": "code",
      "metadata": {
        "colab": {
          "base_uri": "https://localhost:8080/"
        },
        "id": "79QSs9XV72nh",
        "outputId": "b70c781b-d9ae-4338-8182-feabd81110c6"
      },
      "source": [
        "%%time\n",
        "predictions = X_test.iloc[:N,:].apply(lambda x: send_json(x),1)"
      ],
      "execution_count": 11,
      "outputs": [
        {
          "output_type": "stream",
          "text": [
            "CPU times: user 141 ms, sys: 14.1 ms, total: 156 ms\n",
            "Wall time: 15.5 s\n"
          ],
          "name": "stdout"
        }
      ]
    },
    {
      "cell_type": "code",
      "metadata": {
        "colab": {
          "base_uri": "https://localhost:8080/"
        },
        "id": "o1Jsv4bEoDcY",
        "outputId": "60c014af-55e3-4944-d582-a9b4b7166b7a"
      },
      "source": [
        "predictions.values[:5]"
      ],
      "execution_count": 12,
      "outputs": [
        {
          "output_type": "execute_result",
          "data": {
            "text/plain": [
              "array([0.03430735, 0.03184487, 0.10528768, 0.14373377, 0.0716122 ])"
            ]
          },
          "metadata": {
            "tags": []
          },
          "execution_count": 12
        }
      ]
    },
    {
      "cell_type": "markdown",
      "metadata": {
        "id": "GIyVHjhEoHDn"
      },
      "source": [
        "Посчитаем метрику roc-auc"
      ]
    },
    {
      "cell_type": "code",
      "metadata": {
        "colab": {
          "base_uri": "https://localhost:8080/",
          "height": 204
        },
        "id": "RdxztKUjoD9O",
        "outputId": "4ea82b00-9bfd-4366-9c1a-9c3b1c0c68c6"
      },
      "source": [
        "y_test.head()"
      ],
      "execution_count": 13,
      "outputs": [
        {
          "output_type": "execute_result",
          "data": {
            "text/html": [
              "<div>\n",
              "<style scoped>\n",
              "    .dataframe tbody tr th:only-of-type {\n",
              "        vertical-align: middle;\n",
              "    }\n",
              "\n",
              "    .dataframe tbody tr th {\n",
              "        vertical-align: top;\n",
              "    }\n",
              "\n",
              "    .dataframe thead th {\n",
              "        text-align: right;\n",
              "    }\n",
              "</style>\n",
              "<table border=\"1\" class=\"dataframe\">\n",
              "  <thead>\n",
              "    <tr style=\"text-align: right;\">\n",
              "      <th></th>\n",
              "      <th>Exited</th>\n",
              "    </tr>\n",
              "  </thead>\n",
              "  <tbody>\n",
              "    <tr>\n",
              "      <th>0</th>\n",
              "      <td>0</td>\n",
              "    </tr>\n",
              "    <tr>\n",
              "      <th>1</th>\n",
              "      <td>0</td>\n",
              "    </tr>\n",
              "    <tr>\n",
              "      <th>2</th>\n",
              "      <td>0</td>\n",
              "    </tr>\n",
              "    <tr>\n",
              "      <th>3</th>\n",
              "      <td>0</td>\n",
              "    </tr>\n",
              "    <tr>\n",
              "      <th>4</th>\n",
              "      <td>0</td>\n",
              "    </tr>\n",
              "  </tbody>\n",
              "</table>\n",
              "</div>"
            ],
            "text/plain": [
              "   Exited\n",
              "0       0\n",
              "1       0\n",
              "2       0\n",
              "3       0\n",
              "4       0"
            ]
          },
          "metadata": {
            "tags": []
          },
          "execution_count": 13
        }
      ]
    },
    {
      "cell_type": "code",
      "metadata": {
        "colab": {
          "base_uri": "https://localhost:8080/"
        },
        "id": "uIdOMoMKoJk_",
        "outputId": "d08792ce-e76a-4deb-9a90-93fe5176d450"
      },
      "source": [
        "roc_auc_score(y_score=predictions.values, y_true=y_test.values[:N])"
      ],
      "execution_count": 14,
      "outputs": [
        {
          "output_type": "execute_result",
          "data": {
            "text/plain": [
              "0.9035087719298246"
            ]
          },
          "metadata": {
            "tags": []
          },
          "execution_count": 14
        }
      ]
    }
  ]
}