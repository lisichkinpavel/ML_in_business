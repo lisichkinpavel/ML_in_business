{
  "nbformat": 4,
  "nbformat_minor": 0,
  "metadata": {
    "colab": {
      "name": "hw6.ipynb",
      "provenance": [],
      "collapsed_sections": [],
      "toc_visible": true,
      "authorship_tag": "ABX9TyNW11W/o5K2GE7Bq5owBKK4",
      "include_colab_link": true
    },
    "kernelspec": {
      "name": "python3",
      "display_name": "Python 3"
    }
  },
  "cells": [
    {
      "cell_type": "markdown",
      "metadata": {
        "id": "view-in-github",
        "colab_type": "text"
      },
      "source": [
        "<a href=\"https://colab.research.google.com/github/lisya/ML_in_business/blob/lesson06/hw6.ipynb\" target=\"_parent\"><img src=\"https://colab.research.google.com/assets/colab-badge.svg\" alt=\"Open In Colab\"/></a>"
      ]
    },
    {
      "cell_type": "code",
      "metadata": {
        "id": "dYXP3XqppXyO"
      },
      "source": [
        "import pandas as pd\n",
        "import numpy as np"
      ],
      "execution_count": 43,
      "outputs": []
    },
    {
      "cell_type": "code",
      "metadata": {
        "colab": {
          "base_uri": "https://localhost:8080/",
          "height": 221
        },
        "id": "-GpebJiDrMmL",
        "outputId": "20b802b0-fe14-4a7f-e232-3f2cc8cca827"
      },
      "source": [
        "data = pd.read_csv('/content/transfusion.data')\n",
        "data.head(5)"
      ],
      "execution_count": 11,
      "outputs": [
        {
          "output_type": "execute_result",
          "data": {
            "text/html": [
              "<div>\n",
              "<style scoped>\n",
              "    .dataframe tbody tr th:only-of-type {\n",
              "        vertical-align: middle;\n",
              "    }\n",
              "\n",
              "    .dataframe tbody tr th {\n",
              "        vertical-align: top;\n",
              "    }\n",
              "\n",
              "    .dataframe thead th {\n",
              "        text-align: right;\n",
              "    }\n",
              "</style>\n",
              "<table border=\"1\" class=\"dataframe\">\n",
              "  <thead>\n",
              "    <tr style=\"text-align: right;\">\n",
              "      <th></th>\n",
              "      <th>Recency (months)</th>\n",
              "      <th>Frequency (times)</th>\n",
              "      <th>Monetary (c.c. blood)</th>\n",
              "      <th>Time (months)</th>\n",
              "      <th>whether he/she donated blood in March 2007</th>\n",
              "    </tr>\n",
              "  </thead>\n",
              "  <tbody>\n",
              "    <tr>\n",
              "      <th>0</th>\n",
              "      <td>2</td>\n",
              "      <td>50</td>\n",
              "      <td>12500</td>\n",
              "      <td>98</td>\n",
              "      <td>1</td>\n",
              "    </tr>\n",
              "    <tr>\n",
              "      <th>1</th>\n",
              "      <td>0</td>\n",
              "      <td>13</td>\n",
              "      <td>3250</td>\n",
              "      <td>28</td>\n",
              "      <td>1</td>\n",
              "    </tr>\n",
              "    <tr>\n",
              "      <th>2</th>\n",
              "      <td>1</td>\n",
              "      <td>16</td>\n",
              "      <td>4000</td>\n",
              "      <td>35</td>\n",
              "      <td>1</td>\n",
              "    </tr>\n",
              "    <tr>\n",
              "      <th>3</th>\n",
              "      <td>2</td>\n",
              "      <td>20</td>\n",
              "      <td>5000</td>\n",
              "      <td>45</td>\n",
              "      <td>1</td>\n",
              "    </tr>\n",
              "    <tr>\n",
              "      <th>4</th>\n",
              "      <td>1</td>\n",
              "      <td>24</td>\n",
              "      <td>6000</td>\n",
              "      <td>77</td>\n",
              "      <td>0</td>\n",
              "    </tr>\n",
              "  </tbody>\n",
              "</table>\n",
              "</div>"
            ],
            "text/plain": [
              "   Recency (months)  ...  whether he/she donated blood in March 2007\n",
              "0                 2  ...                                           1\n",
              "1                 0  ...                                           1\n",
              "2                 1  ...                                           1\n",
              "3                 2  ...                                           1\n",
              "4                 1  ...                                           0\n",
              "\n",
              "[5 rows x 5 columns]"
            ]
          },
          "metadata": {
            "tags": []
          },
          "execution_count": 11
        }
      ]
    },
    {
      "cell_type": "markdown",
      "metadata": {
        "id": "L5f7_1bQ7_gQ"
      },
      "source": [
        "**У нас имеется датасет с данными доноров крови. Нобходимо определить сдавал ли донор кровь в марте 2007 или нет**"
      ]
    },
    {
      "cell_type": "code",
      "metadata": {
        "colab": {
          "base_uri": "https://localhost:8080/"
        },
        "id": "Ah40oDSMrTYi",
        "outputId": "c46985fe-e0e1-4879-d3bb-d1b1bb2a4510"
      },
      "source": [
        "data.iloc[:, -1].value_counts()"
      ],
      "execution_count": 12,
      "outputs": [
        {
          "output_type": "execute_result",
          "data": {
            "text/plain": [
              "0    570\n",
              "1    178\n",
              "Name: whether he/she donated blood in March 2007, dtype: int64"
            ]
          },
          "metadata": {
            "tags": []
          },
          "execution_count": 12
        }
      ]
    },
    {
      "cell_type": "markdown",
      "metadata": {
        "id": "CrcOb1FW8VOb"
      },
      "source": [
        "**Разобъем наш датасет на трейн и тест и обучим RandomForest**"
      ]
    },
    {
      "cell_type": "code",
      "metadata": {
        "id": "67rGcpm0vrLe"
      },
      "source": [
        "from sklearn.model_selection import train_test_split\n",
        "\n",
        "x_data = data.iloc[:,:-1]\n",
        "y_data = data.iloc[:,-1]\n",
        "\n",
        "x_train, x_test, y_train, y_test = train_test_split(x_data, y_data, test_size=0.5, random_state=7,stratify=y_data )"
      ],
      "execution_count": 36,
      "outputs": []
    },
    {
      "cell_type": "code",
      "metadata": {
        "id": "QHpveEklwBCv"
      },
      "source": [
        "from sklearn.ensemble import RandomForestClassifier\n",
        "\n",
        "model = RandomForestClassifier()\n",
        "\n",
        "model.fit(x_train, y_train)\n",
        "y_predict = model.predict(x_test)"
      ],
      "execution_count": 37,
      "outputs": []
    },
    {
      "cell_type": "code",
      "metadata": {
        "colab": {
          "base_uri": "https://localhost:8080/"
        },
        "id": "J6UaxVDnwVs7",
        "outputId": "6d4d5c4b-ff2a-4311-858a-ed4de6ab8aef"
      },
      "source": [
        "from sklearn.metrics import recall_score, precision_score, roc_auc_score, accuracy_score, f1_score\n",
        "\n",
        "def evaluate_results(y_test, y_predict):\n",
        "    print('Classification results:')\n",
        "    f1 = f1_score(y_test, y_predict)\n",
        "    print(\"f1: %.2f%%\" % (f1 * 100.0)) \n",
        "    roc = roc_auc_score(y_test, y_predict)\n",
        "    print(\"roc: %.2f%%\" % (roc * 100.0)) \n",
        "    rec = recall_score(y_test, y_predict, average='binary')\n",
        "    print(\"recall: %.2f%%\" % (rec * 100.0)) \n",
        "    prc = precision_score(y_test, y_predict, average='binary')\n",
        "    print(\"precision: %.2f%%\" % (prc * 100.0)) \n",
        "\n",
        "    \n",
        "evaluate_results(y_test, y_predict)"
      ],
      "execution_count": 38,
      "outputs": [
        {
          "output_type": "stream",
          "text": [
            "Classification results:\n",
            "f1: 43.79%\n",
            "roc: 63.24%\n",
            "recall: 41.57%\n",
            "precision: 46.25%\n"
          ],
          "name": "stdout"
        }
      ]
    },
    {
      "cell_type": "markdown",
      "metadata": {
        "id": "dourvU2Z2SaW"
      },
      "source": [
        "**PU learning**"
      ]
    },
    {
      "cell_type": "code",
      "metadata": {
        "colab": {
          "base_uri": "https://localhost:8080/"
        },
        "id": "HF_eG--A2T1-",
        "outputId": "d45be863-4c39-49b5-b428-a0b7e13060f3"
      },
      "source": [
        "mod_data = data.copy()\n",
        "#get the indices of the positives samples\n",
        "pos_ind = np.where(mod_data.iloc[:,-1].values == 1)[0]\n",
        "#shuffle them\n",
        "np.random.shuffle(pos_ind)\n",
        "# leave just 25% of the positives marked\n",
        "pos_sample_len = int(np.ceil(0.25 * len(pos_ind)))\n",
        "print(f'Using {pos_sample_len}/{len(pos_ind)} as positives and unlabeling the rest')\n",
        "pos_sample = pos_ind[:pos_sample_len]"
      ],
      "execution_count": 44,
      "outputs": [
        {
          "output_type": "stream",
          "text": [
            "Using 45/178 as positives and unlabeling the rest\n"
          ],
          "name": "stdout"
        }
      ]
    },
    {
      "cell_type": "code",
      "metadata": {
        "colab": {
          "base_uri": "https://localhost:8080/"
        },
        "id": "iJpWSLNj2XYu",
        "outputId": "0d634d4a-6f3a-4d15-8def-6718878a30fb"
      },
      "source": [
        "mod_data['class_test'] = -1\n",
        "mod_data.loc[pos_sample,'class_test'] = 1\n",
        "print('target variable:\\n', mod_data.iloc[:,-1].value_counts())"
      ],
      "execution_count": 45,
      "outputs": [
        {
          "output_type": "stream",
          "text": [
            "target variable:\n",
            " -1    703\n",
            " 1     45\n",
            "Name: class_test, dtype: int64\n"
          ],
          "name": "stdout"
        }
      ]
    },
    {
      "cell_type": "code",
      "metadata": {
        "colab": {
          "base_uri": "https://localhost:8080/",
          "height": 376
        },
        "id": "NRBnc9sC2i_r",
        "outputId": "0a4d607f-1084-43bd-d506-d0b3cebb50b3"
      },
      "source": [
        "mod_data.head(10)"
      ],
      "execution_count": 46,
      "outputs": [
        {
          "output_type": "execute_result",
          "data": {
            "text/html": [
              "<div>\n",
              "<style scoped>\n",
              "    .dataframe tbody tr th:only-of-type {\n",
              "        vertical-align: middle;\n",
              "    }\n",
              "\n",
              "    .dataframe tbody tr th {\n",
              "        vertical-align: top;\n",
              "    }\n",
              "\n",
              "    .dataframe thead th {\n",
              "        text-align: right;\n",
              "    }\n",
              "</style>\n",
              "<table border=\"1\" class=\"dataframe\">\n",
              "  <thead>\n",
              "    <tr style=\"text-align: right;\">\n",
              "      <th></th>\n",
              "      <th>Recency (months)</th>\n",
              "      <th>Frequency (times)</th>\n",
              "      <th>Monetary (c.c. blood)</th>\n",
              "      <th>Time (months)</th>\n",
              "      <th>whether he/she donated blood in March 2007</th>\n",
              "      <th>class_test</th>\n",
              "    </tr>\n",
              "  </thead>\n",
              "  <tbody>\n",
              "    <tr>\n",
              "      <th>0</th>\n",
              "      <td>2</td>\n",
              "      <td>50</td>\n",
              "      <td>12500</td>\n",
              "      <td>98</td>\n",
              "      <td>1</td>\n",
              "      <td>-1</td>\n",
              "    </tr>\n",
              "    <tr>\n",
              "      <th>1</th>\n",
              "      <td>0</td>\n",
              "      <td>13</td>\n",
              "      <td>3250</td>\n",
              "      <td>28</td>\n",
              "      <td>1</td>\n",
              "      <td>-1</td>\n",
              "    </tr>\n",
              "    <tr>\n",
              "      <th>2</th>\n",
              "      <td>1</td>\n",
              "      <td>16</td>\n",
              "      <td>4000</td>\n",
              "      <td>35</td>\n",
              "      <td>1</td>\n",
              "      <td>-1</td>\n",
              "    </tr>\n",
              "    <tr>\n",
              "      <th>3</th>\n",
              "      <td>2</td>\n",
              "      <td>20</td>\n",
              "      <td>5000</td>\n",
              "      <td>45</td>\n",
              "      <td>1</td>\n",
              "      <td>-1</td>\n",
              "    </tr>\n",
              "    <tr>\n",
              "      <th>4</th>\n",
              "      <td>1</td>\n",
              "      <td>24</td>\n",
              "      <td>6000</td>\n",
              "      <td>77</td>\n",
              "      <td>0</td>\n",
              "      <td>-1</td>\n",
              "    </tr>\n",
              "    <tr>\n",
              "      <th>5</th>\n",
              "      <td>4</td>\n",
              "      <td>4</td>\n",
              "      <td>1000</td>\n",
              "      <td>4</td>\n",
              "      <td>0</td>\n",
              "      <td>-1</td>\n",
              "    </tr>\n",
              "    <tr>\n",
              "      <th>6</th>\n",
              "      <td>2</td>\n",
              "      <td>7</td>\n",
              "      <td>1750</td>\n",
              "      <td>14</td>\n",
              "      <td>1</td>\n",
              "      <td>-1</td>\n",
              "    </tr>\n",
              "    <tr>\n",
              "      <th>7</th>\n",
              "      <td>1</td>\n",
              "      <td>12</td>\n",
              "      <td>3000</td>\n",
              "      <td>35</td>\n",
              "      <td>0</td>\n",
              "      <td>-1</td>\n",
              "    </tr>\n",
              "    <tr>\n",
              "      <th>8</th>\n",
              "      <td>2</td>\n",
              "      <td>9</td>\n",
              "      <td>2250</td>\n",
              "      <td>22</td>\n",
              "      <td>1</td>\n",
              "      <td>-1</td>\n",
              "    </tr>\n",
              "    <tr>\n",
              "      <th>9</th>\n",
              "      <td>5</td>\n",
              "      <td>46</td>\n",
              "      <td>11500</td>\n",
              "      <td>98</td>\n",
              "      <td>1</td>\n",
              "      <td>-1</td>\n",
              "    </tr>\n",
              "  </tbody>\n",
              "</table>\n",
              "</div>"
            ],
            "text/plain": [
              "   Recency (months)  ...  class_test\n",
              "0                 2  ...          -1\n",
              "1                 0  ...          -1\n",
              "2                 1  ...          -1\n",
              "3                 2  ...          -1\n",
              "4                 1  ...          -1\n",
              "5                 4  ...          -1\n",
              "6                 2  ...          -1\n",
              "7                 1  ...          -1\n",
              "8                 2  ...          -1\n",
              "9                 5  ...          -1\n",
              "\n",
              "[10 rows x 6 columns]"
            ]
          },
          "metadata": {
            "tags": []
          },
          "execution_count": 46
        }
      ]
    },
    {
      "cell_type": "code",
      "metadata": {
        "id": "Cxs3LUjh2jgM"
      },
      "source": [
        "x_data = mod_data.iloc[:,:-2].values # just the X \n",
        "y_labeled = mod_data.iloc[:,-1].values # new class (just the P & U)\n",
        "y_positive = mod_data.iloc[:,-2].values # original class"
      ],
      "execution_count": 47,
      "outputs": []
    },
    {
      "cell_type": "markdown",
      "metadata": {
        "id": "_OIqKcvX20GF"
      },
      "source": [
        "**random negative sampling**"
      ]
    },
    {
      "cell_type": "code",
      "metadata": {
        "colab": {
          "base_uri": "https://localhost:8080/"
        },
        "id": "il1NJsyS2vOR",
        "outputId": "699caba8-ccf1-4656-aec4-a559db4e3582"
      },
      "source": [
        "mod_data = mod_data.sample(frac=1)\n",
        "neg_sample = mod_data[mod_data['class_test']==-1][:len(mod_data[mod_data['class_test']==1])]\n",
        "sample_test = mod_data[mod_data['class_test']==-1][len(mod_data[mod_data['class_test']==1]):]\n",
        "pos_sample = mod_data[mod_data['class_test']==1]\n",
        "print(neg_sample.shape, pos_sample.shape)\n",
        "sample_train = pd.concat([neg_sample, pos_sample]).sample(frac=1)"
      ],
      "execution_count": 48,
      "outputs": [
        {
          "output_type": "stream",
          "text": [
            "(45, 6) (45, 6)\n"
          ],
          "name": "stdout"
        }
      ]
    },
    {
      "cell_type": "code",
      "metadata": {
        "colab": {
          "base_uri": "https://localhost:8080/"
        },
        "id": "scvBU76J26lJ",
        "outputId": "650b72e9-6a59-458e-e5a8-b2522775dd85"
      },
      "source": [
        "model = RandomForestClassifier()\n",
        "\n",
        "model.fit(sample_train.iloc[:,:-2].values, \n",
        "          sample_train.iloc[:,-2].values)\n",
        "y_predict = model.predict(sample_test.iloc[:,:-2].values)\n",
        "evaluate_results(sample_test.iloc[:,-2].values, y_predict)"
      ],
      "execution_count": 49,
      "outputs": [
        {
          "output_type": "stream",
          "text": [
            "Classification results:\n",
            "f1: 40.33%\n",
            "roc: 64.26%\n",
            "recall: 77.78%\n",
            "precision: 27.22%\n"
          ],
          "name": "stdout"
        }
      ]
    },
    {
      "cell_type": "markdown",
      "metadata": {
        "id": "op6JuVnf7SVg"
      },
      "source": [
        "**Посмотрим как меняются метрики при изменении количества позитивов.**"
      ]
    },
    {
      "cell_type": "code",
      "metadata": {
        "id": "l7O3GrsG5AbZ"
      },
      "source": [
        "p_list = np.arange(0.1, 1.0, 0.1)"
      ],
      "execution_count": 54,
      "outputs": []
    },
    {
      "cell_type": "code",
      "metadata": {
        "colab": {
          "base_uri": "https://localhost:8080/"
        },
        "id": "2PV21B1s3Kl3",
        "outputId": "8b3dc685-fcca-4e43-cad3-75ee8c2c776d"
      },
      "source": [
        "for p in p_list:\n",
        "  mod_data = data.copy()\n",
        "  #get the indices of the positives samples\n",
        "  pos_ind = np.where(mod_data.iloc[:,-1].values == 1)[0]\n",
        "  #shuffle them\n",
        "  np.random.shuffle(pos_ind)\n",
        "  # leave just 25% of the positives marked\n",
        "  pos_sample_len = int(np.ceil(p * len(pos_ind)))\n",
        "  print(f'p = {round(p*100,1)}%')\n",
        "  print(f'Using {pos_sample_len}/{len(pos_ind)} as positives and unlabeling the rest')\n",
        "  pos_sample = pos_ind[:pos_sample_len]\n",
        "\n",
        "  mod_data['class_test'] = -1\n",
        "  mod_data.loc[pos_sample,'class_test'] = 1\n",
        "\n",
        "  x_data = mod_data.iloc[:,:-2].values # just the X \n",
        "  y_labeled = mod_data.iloc[:,-1].values # new class (just the P & U)\n",
        "  y_positive = mod_data.iloc[:,-2].values # original class\n",
        "\n",
        "  mod_data = mod_data.sample(frac=1)\n",
        "  neg_sample = mod_data[mod_data['class_test']==-1][:len(mod_data[mod_data['class_test']==1])]\n",
        "  sample_test = mod_data[mod_data['class_test']==-1][len(mod_data[mod_data['class_test']==1]):]\n",
        "  pos_sample = mod_data[mod_data['class_test']==1]\n",
        "  sample_train = pd.concat([neg_sample, pos_sample]).sample(frac=1)\n",
        "\n",
        "\n",
        "  model = RandomForestClassifier()\n",
        "\n",
        "  model.fit(sample_train.iloc[:,:-2].values, \n",
        "            sample_train.iloc[:,-2].values)\n",
        "  y_predict = model.predict(sample_test.iloc[:,:-2].values)\n",
        "  evaluate_results(sample_test.iloc[:,-2].values, y_predict)\n",
        "  print(f'\\n')\n",
        "  print(f'*'*50)\n",
        "  print(f'\\n')\n",
        "  "
      ],
      "execution_count": 61,
      "outputs": [
        {
          "output_type": "stream",
          "text": [
            "p = 10.0%\n",
            "Using 18/178 as positives and unlabeling the rest\n",
            "Classification results:\n",
            "f1: 41.68%\n",
            "roc: 61.20%\n",
            "recall: 85.90%\n",
            "precision: 27.52%\n",
            "\n",
            "\n",
            "**************************************************\n",
            "\n",
            "\n",
            "p = 20.0%\n",
            "Using 36/178 as positives and unlabeling the rest\n",
            "Classification results:\n",
            "f1: 39.48%\n",
            "roc: 61.99%\n",
            "recall: 68.15%\n",
            "precision: 27.79%\n",
            "\n",
            "\n",
            "**************************************************\n",
            "\n",
            "\n",
            "p = 30.0%\n",
            "Using 54/178 as positives and unlabeling the rest\n",
            "Classification results:\n",
            "f1: 35.56%\n",
            "roc: 61.94%\n",
            "recall: 77.27%\n",
            "precision: 23.10%\n",
            "\n",
            "\n",
            "**************************************************\n",
            "\n",
            "\n",
            "p = 40.0%\n",
            "Using 72/178 as positives and unlabeling the rest\n",
            "Classification results:\n",
            "f1: 36.36%\n",
            "roc: 64.27%\n",
            "recall: 71.43%\n",
            "precision: 24.39%\n",
            "\n",
            "\n",
            "**************************************************\n",
            "\n",
            "\n",
            "p = 50.0%\n",
            "Using 89/178 as positives and unlabeling the rest\n",
            "Classification results:\n",
            "f1: 31.02%\n",
            "roc: 62.04%\n",
            "recall: 70.00%\n",
            "precision: 19.93%\n",
            "\n",
            "\n",
            "**************************************************\n",
            "\n",
            "\n",
            "p = 60.0%\n",
            "Using 107/178 as positives and unlabeling the rest\n",
            "Classification results:\n",
            "f1: 30.04%\n",
            "roc: 64.02%\n",
            "recall: 60.32%\n",
            "precision: 20.00%\n",
            "\n",
            "\n",
            "**************************************************\n",
            "\n",
            "\n",
            "p = 70.0%\n",
            "Using 125/178 as positives and unlabeling the rest\n",
            "Classification results:\n",
            "f1: 22.88%\n",
            "roc: 62.24%\n",
            "recall: 67.39%\n",
            "precision: 13.78%\n",
            "\n",
            "\n",
            "**************************************************\n",
            "\n",
            "\n",
            "p = 80.0%\n",
            "Using 143/178 as positives and unlabeling the rest\n",
            "Classification results:\n",
            "f1: 13.01%\n",
            "roc: 62.73%\n",
            "recall: 72.73%\n",
            "precision: 7.14%\n",
            "\n",
            "\n",
            "**************************************************\n",
            "\n",
            "\n",
            "p = 90.0%\n",
            "Using 161/178 as positives and unlabeling the rest\n",
            "Classification results:\n",
            "f1: 9.47%\n",
            "roc: 68.29%\n",
            "recall: 72.73%\n",
            "precision: 5.06%\n",
            "\n",
            "\n",
            "**************************************************\n",
            "\n",
            "\n"
          ],
          "name": "stdout"
        }
      ]
    },
    {
      "cell_type": "code",
      "metadata": {
        "id": "i3ZzjXVX6b_6"
      },
      "source": [
        ""
      ],
      "execution_count": null,
      "outputs": []
    }
  ]
}