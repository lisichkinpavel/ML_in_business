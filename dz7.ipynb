{
  "nbformat": 4,
  "nbformat_minor": 0,
  "metadata": {
    "colab": {
      "name": "dz7.ipynb",
      "provenance": [],
      "authorship_tag": "ABX9TyNOqfw9+EU/6Fuj9JJSzm9L",
      "include_colab_link": true
    },
    "kernelspec": {
      "name": "python3",
      "display_name": "Python 3"
    }
  },
  "cells": [
    {
      "cell_type": "markdown",
      "metadata": {
        "id": "view-in-github",
        "colab_type": "text"
      },
      "source": [
        "<a href=\"https://colab.research.google.com/github/lisya/ML_in_business/blob/lesson07/dz7.ipynb\" target=\"_parent\"><img src=\"https://colab.research.google.com/assets/colab-badge.svg\" alt=\"Open In Colab\"/></a>"
      ]
    },
    {
      "cell_type": "markdown",
      "metadata": {
        "id": "AQe6tdLou3Pn"
      },
      "source": [
        "# Не успеваю доделать дз. Сдам чуть позже.\n",
        "Извините и Спасибо!"
      ]
    }
  ]
}